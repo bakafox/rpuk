{
 "cells": [
  {
   "cell_type": "markdown",
   "metadata": {},
   "source": [
    "https://blog.roboflow.com/train-a-custom-yolov8-pose-estimation-model/\n",
    "\n",
    "https://www.youtube.com/watch?v=gA5N54IO1ko"
   ]
  },
  {
   "cell_type": "code",
   "execution_count": null,
   "metadata": {},
   "outputs": [],
   "source": [
    "!rm -rf ./runs # удаляем предыдущие результаты\n",
    "\n",
    "!pip install ultralytics==8.0.196 # рекомендуемая стабильная версия\n",
    "!pip install roboflow\n",
    "!pip install torch"
   ]
  },
  {
   "cell_type": "markdown",
   "metadata": {},
   "source": [
    "Чтобы запустить на сервере:\n",
    "1. На сервере - `jupyter notebook`\n",
    "2. На клиенте - `ssh -NfL localhost:ПОРТ:localhost:ПОРТ v.chekhovskii@84.237.51.129 -p 10023`\n",
    "3. Открываем `localhost:ПОРТ` в браузере\n",
    "4. Run -> Restart Kernel and Run All Cells... -> Restart\n",
    "\n",
    "Чтобы остановить проброс портом:\n",
    "1. На клиенте - `ssh -KL localhost:ПОРТ:localhost:ПОРТ v.chekhovskii@84.237.51.129 -p 10023`"
   ]
  },
  {
   "cell_type": "markdown",
   "metadata": {},
   "source": [
    "# yolka_train.py"
   ]
  },
  {
   "cell_type": "code",
   "execution_count": null,
   "metadata": {},
   "outputs": [],
   "source": [
    "import ultralytics\n",
    "from roboflow import Roboflow\n",
    "from torch.utils.data import DataLoader\n",
    "\n",
    "from IPython.display import Image, display\n",
    "import os"
   ]
  },
  {
   "cell_type": "markdown",
   "metadata": {},
   "source": [
    "Cкачиваем наш датасет с RoboFlow\n",
    "(https://universe.roboflow.com/mmmm-ooaoaa/yasherki)"
   ]
  },
  {
   "cell_type": "code",
   "execution_count": null,
   "metadata": {},
   "outputs": [],
   "source": [
    "rf = Roboflow(api_key=\"IJmZ9Rj7mXzHlNQHLSSX\") # КЛЮЧ УЖЕ РЕВОУКНУТ, ЕСЛИ ЧТО =)\n",
    "#project = rf.workspace(\"object-recognition-ykute\").project(\"horses-mi6xs\").version(2)\n",
    "#project = rf.workspace(\"capjamesg\").project(\"glue-keypoint-detection\").version(1)\n",
    "#project = rf.workspace(\"keypoint-test\").project(\"raccoon-pose\").version(1)\n",
    "project = rf.workspace(\"mmmm-ooaoaa\").project(\"yasherki\").version(5)\n",
    "dataset = project.download(\"yolov5\")"
   ]
  },
  {
   "cell_type": "markdown",
   "metadata": {},
   "source": [
    "Загружаем yolo-pose\n",
    "(описание: https://github.com/ultralytics/ultralytics/issues/1915)"
   ]
  },
  {
   "cell_type": "code",
   "execution_count": null,
   "metadata": {},
   "outputs": [],
   "source": [
    "MODEL_NANE = 'yolov8m-pose'\n",
    "model = ultralytics.YOLO(f'./{MODEL_NANE}.pt')"
   ]
  },
  {
   "cell_type": "markdown",
   "metadata": {},
   "source": [
    "Тренируем модель"
   ]
  },
  {
   "cell_type": "code",
   "execution_count": null,
   "metadata": {},
   "outputs": [],
   "source": [
    "EPOCHS = 10 # поменять на по болбше\n",
    "DIR_TRAIN = f'{MODEL_NANE}_trained_{EPOCHS}'\n",
    "DIR_PRED = f'{MODEL_NANE}_predicted_{EPOCHS}'"
   ]
  },
  {
   "cell_type": "code",
   "execution_count": null,
   "metadata": {},
   "outputs": [],
   "source": [
    "train = model.train(\n",
    "    data=f'{dataset.location}/data.yaml',\n",
    "    split='train',\n",
    "    imgsz=640,\n",
    "    epochs=EPOCHS,\n",
    "    batch=16,\n",
    "    name=DIR_TRAIN\n",
    ")"
   ]
  },
  {
   "cell_type": "markdown",
   "metadata": {},
   "source": [
    "~~Сохраняем веса~~\n",
    "(вместо этого мы используем лучшие(!) веса за все эпохи\n",
    "из \"yolov8n_trained/weights/best.pt\",\n",
    "которые любезно за нас сохраняет YOLOv8)"
   ]
  },
  {
   "cell_type": "code",
   "execution_count": null,
   "metadata": {},
   "outputs": [],
   "source": [
    "#model.save('{MODEL_NANE}_trained')"
   ]
  },
  {
   "cell_type": "markdown",
   "metadata": {},
   "source": [
    "Демонстрация результатов"
   ]
  },
  {
   "cell_type": "code",
   "execution_count": null,
   "metadata": {},
   "outputs": [],
   "source": [
    "display(Image(f'./runs/pose/{DIR_TRAIN}/confusion_matrix.png', width=600))"
   ]
  },
  {
   "cell_type": "code",
   "execution_count": null,
   "metadata": {},
   "outputs": [],
   "source": [
    "display(Image(f'./runs/pose/{DIR_TRAIN}/results.png', width=800))"
   ]
  },
  {
   "cell_type": "markdown",
   "metadata": {},
   "source": [
    "# yolka_test.py"
   ]
  },
  {
   "cell_type": "markdown",
   "metadata": {},
   "source": [
    "Загружаем новую модель с натренированными весами"
   ]
  },
  {
   "cell_type": "code",
   "execution_count": null,
   "metadata": {},
   "outputs": [],
   "source": [
    "#model = ultralytics.YOLO('{MODEL_NANE}_trained')\n",
    "model = ultralytics.YOLO(f'./runs/pose/{DIR_TRAIN}/weights/best.pt')"
   ]
  },
  {
   "cell_type": "markdown",
   "metadata": {},
   "source": [
    "Наконец, выполняем предсказания"
   ]
  },
  {
   "cell_type": "code",
   "execution_count": null,
   "metadata": {},
   "outputs": [],
   "source": [
    "pred = model.predict(\n",
    "    source=f'{dataset.location}/test/images',\n",
    "    conf=0.40, # 0.25, 0.40, 0.75...\n",
    "    save=True,\n",
    "    name=DIR_PRED\n",
    ")"
   ]
  },
  {
   "cell_type": "markdown",
   "metadata": {},
   "source": [
    "Демонстрация результатов"
   ]
  },
  {
   "cell_type": "code",
   "execution_count": null,
   "metadata": {},
   "outputs": [],
   "source": [
    "for imgname in os.listdir(f'./runs/pose/{DIR_PRED}'):\n",
    "    display(Image(f'./runs/pose/{DIR_PRED}/{imgname}', width=200))"
   ]
  },
  {
   "cell_type": "code",
   "execution_count": null,
   "metadata": {},
   "outputs": [],
   "source": []
  }
 ],
 "metadata": {
  "kernelspec": {
   "display_name": "Python 3 (ipykernel)",
   "language": "python",
   "name": "python3"
  },
  "language_info": {
   "codemirror_mode": {
    "name": "ipython",
    "version": 3
   },
   "file_extension": ".py",
   "mimetype": "text/x-python",
   "name": "python",
   "nbconvert_exporter": "python",
   "pygments_lexer": "ipython3",
   "version": "3.10.12"
  }
 },
 "nbformat": 4,
 "nbformat_minor": 4
}
